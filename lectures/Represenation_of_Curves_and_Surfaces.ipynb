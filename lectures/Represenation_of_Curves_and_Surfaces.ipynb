{
 "cells": [
  {
   "cell_type": "markdown",
   "metadata": {
    "id": "HdicSN23OeT8"
   },
   "source": [
    "### **Parametric Cubic Curves**\n",
    "\n",
    "- A segment is defined as function $Q(t)=[x(t), y(t), z(t)]^T$\n",
    "  - $x(t)=a_xt^3 + b_xt^2 + c_xt + d_x$\n",
    "  - $y(t)=a_yt^3 + b_yt^2 + c_yt + d_y$\n",
    "  - $z(t)=a_zt^3 + b_zt^2 + c_zt + d_z$\n",
    "- Put $C=\\begin{bmatrix} a_x & b_x & c_x & d_x \\\\ a_y & b_y & c_y & d_y \\\\ a_z & b_z & c_z & d_z  \\end{bmatrix}$\n",
    "- Put $T=\\begin{bmatrix} t^3 \\\\ t^2 \\\\ t \\\\ 1 \\end{bmatrix}$\n",
    "- Then $Q(t) = C\\cdot T$\n",
    "\n",
    "#### **Continuity**\n",
    "- $\\frac{d}{dt}Q(t)=\\frac{d}{dt}(C\\cdot T)=C \\cdot \\frac{d}{dt}T = C \\cdot \\begin{bmatrix}3t^2 \\\\ 2t \\\\ 1 \\\\ 0\\end{bmatrix}$\n",
    "- If curve $\\mathcal{C}_1$ join curve $\\mathcal{C}_2$ into $\\mathcal{C}$ at point $P$, we say $\\mathcal{C}$ has $G^0$ **geometric continuity**\n",
    "- If the **slopes** of tangent vectors at $P$ from two curve are equal, we say $\\mathcal{C}$ has $G^1$ **geometric continuity**\n",
    "- If the **slopes and magnitude** of tangent vectors at $P$ from two curve are equal, we say curve $\\mathcal{C}$ has $C_1$ **geometric continuity**\n",
    "\n",
    "\n",
    "#### **Factorization**\n",
    "\n",
    "We can factorize matrix $C$ into $C=G \\cdot M$\n",
    "- $G$ is $3 \\times 4$ **geometry matrix**, including 4 control points\n",
    "- $M$ is $4 \\times 4$ **basis matrix**"
   ]
  },
  {
   "cell_type": "markdown",
   "metadata": {
    "id": "HJOfddiKQYGx"
   },
   "source": [
    "### **Hermite Curve**\n",
    "\n",
    "Hermite factorize $C_H$ into $C_H=G_H \\cdot M_H$:\n",
    "- $G_H$ includes 2 endpoints $P_1=\\begin{bmatrix} P_{1x} & P_{1y} & P_{1z} \\end{bmatrix}^T, P_4=\\begin{bmatrix} P_{4x} & P_{4y} & P_{4z} \\end{bmatrix}^T$ and two tangent vectors at the end points $R_1=\\begin{bmatrix} R_{1x} & R_{1y} & R_{1z} \\end{bmatrix}^T, R_4=\\begin{bmatrix} R_{4x} & R_{4y} & R_{4z} \\end{bmatrix}^T$\n",
    "- We can write $G_H$ as column vectors: $G_H=\\begin{bmatrix} P_{1} & P_{4} & R_{1} & R_{4} \\end{bmatrix}$\n",
    "  - The $1^{st}$ row of $G_H$ contains $x$ components of 4 points, noted as $r_x(G_H)$\n",
    "  - The $2^{nd}$ row of $G_H$ contains $y$ components of 4 points, noted as $r_y(G_H)$\n",
    "  - The $3^{th}$ row of $G_H$ contains $z$ components of 4 points, noted as $r_z(G_H)$\n",
    "- Function $x(t)=r_x(C_H) \\cdot T = r_x(G_H) \\cdot M_H \\cdot T =r_x(G_H) \\cdot M_H \\cdot \\begin{bmatrix} t^3 & t^2 & t & 1 \\end{bmatrix}^T$\n",
    "- Derivative $\\frac{d(x(t))}{dt}=r_x(G_H) \\cdot M_H \\cdot \\frac{dT}{dt} = r_x(G_H) \\cdot M_H \\cdot \\begin{bmatrix} 3t^2 & 2t & 1 & 0 \\end{bmatrix}^T$\n",
    "- Calculate $x$ components of 4 control points:\n",
    "  - $x(0)=P_{1x}=r_x(G_H) \\cdot M_H \\begin{bmatrix} 0 & 0 & 0 & 1 \\end{bmatrix}^T \\in \\mathbb{R}$\n",
    "  - $x(1)=P_{4x}=r_x(G_H) \\cdot M_H \\begin{bmatrix} 1 & 1 & 1 & 1 \\end{bmatrix}^T \\in \\mathbb{R}$\n",
    "  - $\\frac{dx(0)}{dt}=R_{1x}=r_x(G_H) \\cdot M_H \\begin{bmatrix} 0 & 0 & 1 & 0 \\end{bmatrix}^T \\in \\mathbb{R}$\n",
    "  - $\\frac{dx(1)}{dt}=R_{4x}=r_x(G_H) \\cdot M_H \\begin{bmatrix} 3 & 2 & 1 & 0 \\end{bmatrix}^T \\in \\mathbb{R}$\n",
    "- We have $r_x(G_H)=\\begin{bmatrix} P_{1x} & P_{4x} & R_{1x} & R_{4x} \\end{bmatrix}=r_x(G_H) \\cdot M_H \\cdot \\begin{bmatrix} 0 & 1 & 0 & 3 \\\\ 0 & 1 & 0 & 2 \\\\ 0 & 1 & 1 & 1 \\\\ 1 & 1 & 0 & 0 \\end{bmatrix} \\in \\mathbb{R}^{1 \\times 4}$\n",
    "- Eliminate $r_x(G_H)$ both sides, we have: $M_H=\\begin{bmatrix} 0 & 1 & 0 & 3 \\\\ 0 & 1 & 0 & 2 \\\\ 0 & 1 & 1 & 1 \\\\ 1 & 1 & 0 & 0 \\end{bmatrix}^{-1} = \\begin{bmatrix} 2 & -3 & 0 & 1 \\\\ -2 & 3 & 0 & 0 \\\\ 1 & -2 & 1 & 0 \\\\ 1 & -1 & 0 & 0 \\end{bmatrix}$\n",
    "- Therefore: $Q(t)=G_H \\cdot M_H \\cdot T = G_H \\cdot B_H = \\begin{bmatrix} P_{1} & P_{4} & R_{1} & R_{4} \\end{bmatrix}\\cdot B_H$\n",
    "- **Blending function:** $B_H=M_H \\cdot T=\\begin{bmatrix} 2 & -3 & 0 & 1 \\\\ -2 & 3 & 0 & 0 \\\\ 1 & -2 & 1 & 0 \\\\ 1 & -1 & 0 & 0 \\end{bmatrix} \\cdot  \\begin{bmatrix} t^3 \\\\ t^2 \\\\ t \\\\ 1 \\end{bmatrix} = \\begin{bmatrix} 2t^3-3t^2+1 \\\\ -2t^3+3t^2 \\\\ t^3-2t^2+t \\\\t^3-t^2 \\end{bmatrix} \\in \\mathbb{R}^{4 \\times 1}$\n",
    "  - Note that $B_H$ plays a role as **a weighting function** over control points\n",
    "- Finally, $Q(t)=G_H \\cdot B_H = (2t^3-3t+1 )P_1 + (-2t^3+3t^2)P_4 + (t^3-2t^2+t)R_1 + (t^3-t^2)R_4$"
   ]
  },
  {
   "cell_type": "code",
   "execution_count": null,
   "metadata": {
    "colab": {
     "base_uri": "https://localhost:8080/",
     "height": 563
    },
    "id": "fsqwePbWjKln",
    "outputId": "da3d34f9-743c-4620-ad5c-739b79affdd3"
   },
   "outputs": [
    {
     "name": "stdout",
     "output_type": "stream",
     "text": [
      "[[ 0.  6.  4.  8.]\n",
      " [ 2.  4.  8. -8.]]\n"
     ]
    },
    {
     "data": {
      "image/png": "[encoded data removed]",
      "text/plain": [
       "<Figure size 600x600 with 1 Axes>"
      ]
     },
     "metadata": {},
     "output_type": "display_data"
    }
   ],
   "source": [
    "import numpy as np\n",
    "from numpy import array\n",
    "import matplotlib.pyplot as plt\n",
    "nrow, ncol = 1, 1\n",
    "plt.rcParams[\"figure.figsize\"] = (6*ncol, 6*nrow)\n",
    "fig, ax = plt.subplots(nrow, ncol)\n",
    "ax.set_xlim([-2, 12]); ax.set_ylim([-2, 12])\n",
    "\n",
    "# Control points\n",
    "P1 = array([0, 2]) # Endpoint P1\n",
    "P4 = array([6, 4]) # Endpoint P4\n",
    "End_R1 = array([1, 4]) # Endpoint for vector R1\n",
    "End_R4 = array([4, 6]) # Endpoint vector R4\n",
    "\n",
    "mag = 4  # change this parameter to see the curving effect\n",
    "R1 = mag*(End_R1-P1) # tangent vector 1\n",
    "R4 = mag*(P4 - End_R4) # tangent vector 2\n",
    "\n",
    "G = np.zeros((2,4)) # Geometry matrix: 2D Catersian with 4 control points\n",
    "G[:,0], G[:,1], G[:,2], G[:,3] = P1.T, P4.T, R1.T, R4.T\n",
    "print(G)\n",
    "N = 20\n",
    "time = np.linspace(0, 1, N)\n",
    "B = np.zeros((4,1)) # Blending Function\n",
    "Q = np.zeros((2,N))\n",
    "for i, t in enumerate(time): # t in [0, 1]\n",
    "  B[0] = 2*t**3 - 3*t**2 + 1\n",
    "  B[1] = -2*t**3 + 3*t**2\n",
    "  B[2] = t**3 - 2*t**2 + t\n",
    "  B[3] = t**3 - t**2\n",
    "  ret = G@B\n",
    "  Q[:, i] = ret.reshape((2,))\n",
    "\n",
    "ax.scatter(Q[0,:], Q[1,:] , c='red', s=10) # points\n",
    "ax.plot(Q[0,:], Q[1,:] , c='green') # lines\n",
    "\n",
    "# Visualize\n",
    "\n",
    "ax.text(P1[0], P1[1]+0.5, 'P1', c='blue')\n",
    "ax.text(P4[0], P4[1]+0.5, 'P4', c='blue')\n",
    "ax.text(End_R1[0], End_R1[1]+0.5, 'End_R1', c='blue')\n",
    "ax.text(End_R4[0], End_R4[1]+0.5, 'End_R4', c='blue')\n",
    "ax.scatter([P1[0], P4[0], End_R1[0], End_R4[0]], [P1[1], P4[1], End_R1[1], End_R4[1]])\n",
    "ax.arrow(P1[0], P1[1], R1[0]/2, R1[1]/2, fc='red', ec='red', head_width=0.2, head_length=0.2) # P1R1\n",
    "ax.arrow(P4[0], P4[1], R4[0]/2, R4[1]/2, fc='red', ec='red', head_width=0.2, head_length=0.2) # P4R4\n",
    "ax.arrow(P1[0], P1[1], -R1[0]/2, -R1[1]/2, fc='red', ec='red', head_width=0.0, head_length=0.0) # extend P1R1\n",
    "ax.arrow(P4[0], P4[1], -R4[0]/2, -R4[1]/2, fc='red', ec='red', head_width=0.0, head_length=0.0) # extend P4R4\n",
    "ax.grid()"
   ]
  },
  {
   "cell_type": "markdown",
   "metadata": {
    "id": "x5Uq2Sk8KSYw"
   },
   "source": [
    "### **Bezier Curves**\n",
    "- Similar to Hermite Curves, using 4 control points\n",
    "- Replace $R_1$ by $P_2$, satifying $R_1=\\frac{dQ(0)}{dt}=3(P_2-P_1)=3\\vec{P_2P_1}$\n",
    "- Replace $R_4$ by $P_4$, satifying $R_4=\\frac{dQ(1)}{dt}=3(P_4-P_3)=3\\vec{P_3P_4}$\n",
    "- Geometry matrix: $G_B=\\begin{bmatrix}P_1 & P_2 & P_3 & P_4 \\end{bmatrix}$\n",
    "- We assume that known matrix $M_{BH}=\\begin{bmatrix}1 & 0 & -3 & 0 \\\\ 0 & 0 & 3 & 0 \\\\ 0 & 0 & 0 & -3 \\\\ 0 & 1 & 0 & 3 \\end{bmatrix}$ (find later), transforms Bezier Geometry Matrix $G_B$ into Hermite Geometry Matrix $G_H$: $G_H=G_B \\cdot M_{HB}$\n",
    "- $Q(t)=G_H \\cdot B_H = G_B \\cdot M_{HB} \\cdot B_H$\n",
    "- Let $B_B=M_{HB} \\cdot B_H = \\begin{bmatrix}2 t^{3} - 3 t^{2} + 1\\\\- 2 t^{3} + 3 t^{2}\\\\t^{3} - 2 t^{2} + t\\\\t^{3} - t^{2}\\end{bmatrix} \\cdot \\begin{bmatrix}1 & 0 & -3 & 0 \\\\ 0 & 0 & 3 & 0 \\\\ 0 & 0 & 0 & -3 \\\\ 0 & 1 & 0 & 3 \\end{bmatrix} =  \\begin{bmatrix}(1-t)^3\\\\3 t \\left(t^{2} - 2 t + 1\\right)\\\\3 t^{2} \\left(1 - t\\right)\\\\t^{3}\\end{bmatrix}$\n",
    "- $Q(t)=G_B \\cdot B_B = \\begin{bmatrix}P_1 & P_2 & P_3 & P_4 \\end{bmatrix} \\cdot \\begin{bmatrix}(1-t)^3\\\\ 3t(1-t)^2\\\\ 3t^{2} (1 - t)\\\\t^{3}\\end{bmatrix}$\n",
    "- $Q(t) = (1-t)^3 P_1 + 3t(1-t)^2P_2 + 3t^{2} (1 - t)P_3 + t^{3}P_4$"
   ]
  },
  {
   "cell_type": "code",
   "execution_count": null,
   "metadata": {
    "colab": {
     "base_uri": "https://localhost:8080/",
     "height": 120
    },
    "id": "Qam4qaFWNt34",
    "outputId": "4ff1ca23-757d-45c6-de09-ad10566e197c"
   },
   "outputs": [
    {
     "name": "stdout",
     "output_type": "stream",
     "text": [
      "\\left[\\begin{matrix}- t^{3} + 3 t^{2} - 3 t + 1\\\\3 t \\left(t^{2} - 2 t + 1\\right)\\\\3 t^{2} \\left(1 - t\\right)\\\\t^{3}\\end{matrix}\\right]\n"
     ]
    },
    {
     "data": {
      "text/latex": [
       "$\\displaystyle \\left[\\begin{matrix}- \\left(t - 1\\right)^{3}\\\\3 t \\left(t - 1\\right)^{2}\\\\- 3 t^{2} \\left(t - 1\\right)\\\\t^{3}\\end{matrix}\\right]$"
      ],
      "text/plain": [
       "⎡          3  ⎤\n",
       "⎢  -(t - 1)   ⎥\n",
       "⎢             ⎥\n",
       "⎢           2 ⎥\n",
       "⎢3⋅t⋅(t - 1)  ⎥\n",
       "⎢             ⎥\n",
       "⎢    2        ⎥\n",
       "⎢-3⋅t ⋅(t - 1)⎥\n",
       "⎢             ⎥\n",
       "⎢      3      ⎥\n",
       "⎣     t       ⎦"
      ]
     },
     "execution_count": 45,
     "metadata": {},
     "output_type": "execute_result"
    }
   ],
   "source": [
    "import numpy as np\n",
    "from sympy import init_printing, symbols, Matrix, sin, cos, simplify, eye, latex, expand, factor\n",
    "# init_printing(fontsize='30pt')\n",
    "init_printing(use_latex=True, fontsize='30pt')\n",
    "t,k = symbols(['t', 'k'])\n",
    "B_H = Matrix([[2*t**3 - 3*t**2 + 1], [-2*t**3 + 3*t**2], [t**3 - 2*t**2 + t], [t**3 - t**2 ]])\n",
    "M_HB = np.array([[1, 0, -3, 0], [0, 0, 3, 0], [0, 0, 0, -3], [0, 1, 0, 3]])\n",
    "# print(latex(B_H))\n",
    "B_B = M_HB@B_H\n",
    "B_B = simplify(B_B)\n",
    "B_B_new = Matrix([[factor(B_B[0])], [factor(B_B[1])], [factor(B_B[2])], [factor(B_B[3])]])\n",
    "print(latex(B_B))\n",
    "B_B_new\n",
    "# expand((1-t)**3)"
   ]
  },
  {
   "cell_type": "code",
   "execution_count": null,
   "metadata": {
    "colab": {
     "base_uri": "https://localhost:8080/",
     "height": 563
    },
    "id": "G9MlXF_DTfln",
    "outputId": "1bf86574-1a16-4963-e8b3-b1f2b2f0b4ad"
   },
   "outputs": [
    {
     "name": "stdout",
     "output_type": "stream",
     "text": [
      "[[0. 1. 4. 6.]\n",
      " [2. 4. 6. 4.]]\n"
     ]
    },
    {
     "data": {
      "image/png": "[encoded data removed]",
      "text/plain": [
       "<Figure size 600x600 with 1 Axes>"
      ]
     },
     "metadata": {},
     "output_type": "display_data"
    }
   ],
   "source": [
    "import numpy as np\n",
    "from numpy import array\n",
    "import matplotlib.pyplot as plt\n",
    "nrow, ncol = 1, 1\n",
    "plt.rcParams[\"figure.figsize\"] = (6*ncol, 6*nrow)\n",
    "fig, ax = plt.subplots(nrow, ncol)\n",
    "ax.set_xlim([-2, 10]); ax.set_ylim([-2, 10])\n",
    "\n",
    "# Control points\n",
    "P1 = array([0, 2]) # Endpoint P1\n",
    "P4 = array([6, 4]) # Endpoint P4\n",
    "P2 = array([1, 4]) # Endpoint P2\n",
    "P3 = array([4, 6]) # Endpoint P3\n",
    "t1 = P2-P1 # tangent vector 1\n",
    "t2 = P4-P3 # tangent vector 2\n",
    "\n",
    "G_B = np.zeros((2,4)) # Geometry matrix: 2D Catersian with 4 control points\n",
    "G_B[:,0], G_B[:,1], G_B[:,2], G_B[:,3] = P1.T, P2.T, P3.T, P4.T\n",
    "print(G_B)\n",
    "N = 20\n",
    "time = np.linspace(0, 1, N)\n",
    "B_B = np.zeros((4,1)) # Blending Function\n",
    "Q = np.zeros((2, N))\n",
    "for i, t in enumerate(time): # t in [0, 1]\n",
    "  B_B[0] = (1-t)**3\n",
    "  B_B[1] = 3*t*(1-t)**2\n",
    "  B_B[2] = 3*t**2*(1-t)\n",
    "  B_B[3] = t**3\n",
    "  ret = G_B@B_B\n",
    "  Q[:, i] = ret.reshape((2,))\n",
    "\n",
    "ax.scatter(Q[0,:], Q[1,:] , c='red', s=10) # s in pt unit, points\n",
    "ax.plot(Q[0,:], Q[1,:] , c='green') # lines\n",
    "\n",
    "# Visualize\n",
    "\n",
    "ax.text(P1[0], P1[1]+0.5, 'P1', c='blue')\n",
    "ax.text(P4[0], P4[1]+0.5, 'P4', c='blue')\n",
    "ax.text(P2[0], P2[1]+0.5, 'P2', c='blue')\n",
    "ax.text(P3[0], P3[1]+0.5, 'P3', c='blue')\n",
    "ax.scatter([P1[0], P2[0], P3[0], P4[0]], [P1[1], P2[1], P3[1], P4[1]])\n",
    "ax.arrow(P1[0], P1[1], t1[0], t1[1], fc='red', ec='red', head_width=0.2, head_length=0.2) # tangent t1\n",
    "ax.arrow(P4[0], P4[1], t2[0], t2[1], fc='red', ec='red', head_width=0.2, head_length=0.2) # tangent t2\n",
    "ax.arrow(P1[0], P1[1], -t1[0]*2, -t1[1]*2, fc='red', ec='red', head_width=0.0, head_length=0.0) # extend t1\n",
    "ax.arrow(P4[0], P4[1], -t2[0]*2, -t2[1]*2, fc='red', ec='red', head_width=0.0, head_length=0.0) # extend t2\n",
    "\n",
    "ax.grid()"
   ]
  },
  {
   "cell_type": "markdown",
   "metadata": {
    "id": "2gNlpoEz3zo_"
   },
   "source": [
    "### **Find $M_{HB}$ matrix**"
   ]
  },
  {
   "cell_type": "markdown",
   "metadata": {
    "id": "PcanZdcT-S0M"
   },
   "source": [
    "### Bezier Matrix $M_B$"
   ]
  },
  {
   "cell_type": "code",
   "execution_count": null,
   "metadata": {
    "colab": {
     "base_uri": "https://localhost:8080/",
     "height": 78
    },
    "id": "KgZDfGcb3v4K",
    "outputId": "290f7a08-f425-44de-e672-ff484490d90a"
   },
   "outputs": [
    {
     "data": {
      "text/latex": [
       "$\\displaystyle \\left[\\begin{matrix}p_{1x} & p_{2x} & p_{3x} & p_{4x}\\\\p_{1y} & p_{2y} & p_{3y} & p_{4y}\\\\p_{1z} & p_{2z} & p_{3z} & p_{4z}\\end{matrix}\\right]$"
      ],
      "text/plain": [
       "⎡p_{1x}  p_{2x}  p_{3x}  p_{4x}⎤\n",
       "⎢                              ⎥\n",
       "⎢p_{1y}  p_{2y}  p_{3y}  p_{4y}⎥\n",
       "⎢                              ⎥\n",
       "⎣p_{1z}  p_{2z}  p_{3z}  p_{4z}⎦"
      ]
     },
     "execution_count": 25,
     "metadata": {},
     "output_type": "execute_result"
    }
   ],
   "source": [
    "import numpy as np\n",
    "from sympy import init_printing, symbols, Matrix, sin, cos, simplify, eye, latex\n",
    "init_printing( fontsize='30pt')\n",
    "M = Matrix()\n",
    "P1 = Matrix(symbols(['p_{1x}', 'p_{1y}', 'p_{1z}']))\n",
    "P2 = Matrix(symbols(['p_{2x}', 'p_{2y}', 'p_{2z}']))\n",
    "P3 = Matrix(symbols(['p_{3x}', 'p_{3y}', 'p_{3z}']))\n",
    "P4 = Matrix(symbols(['p_{4x}', 'p_{4y}', 'p_{4z}']))\n",
    "GB = M.hstack(P1, P2, P3, P4)\n",
    "GB"
   ]
  },
  {
   "cell_type": "markdown",
   "metadata": {
    "id": "TYTHj06y-GKr"
   },
   "source": [
    "### Hermite Matrix $G_H$\n"
   ]
  },
  {
   "cell_type": "code",
   "execution_count": null,
   "metadata": {
    "colab": {
     "base_uri": "https://localhost:8080/",
     "height": 78
    },
    "id": "MPE9egid-lBZ",
    "outputId": "7592bc57-90cb-4db5-ce77-ffff068469d7"
   },
   "outputs": [
    {
     "data": {
      "text/latex": [
       "$\\displaystyle \\left[\\begin{matrix}p_{1x} & p_{4x} & - 3 p_{1x} + 3 p_{2x} & - 3 p_{3x} + 3 p_{4x}\\\\p_{1y} & p_{4y} & - 3 p_{1y} + 3 p_{2y} & - 3 p_{3y} + 3 p_{4y}\\\\p_{1z} & p_{4z} & - 3 p_{1z} + 3 p_{2z} & - 3 p_{3z} + 3 p_{4z}\\end{matrix}\\right]$"
      ],
      "text/plain": [
       "⎡p_{1x}  p_{4x}  -3⋅p_{1x} + 3⋅p_{2x}  -3⋅p_{3x} + 3⋅p_{4x}⎤\n",
       "⎢                                                          ⎥\n",
       "⎢p_{1y}  p_{4y}  -3⋅p_{1y} + 3⋅p_{2y}  -3⋅p_{3y} + 3⋅p_{4y}⎥\n",
       "⎢                                                          ⎥\n",
       "⎣p_{1z}  p_{4z}  -3⋅p_{1z} + 3⋅p_{2z}  -3⋅p_{3z} + 3⋅p_{4z}⎦"
      ]
     },
     "execution_count": 29,
     "metadata": {},
     "output_type": "execute_result"
    }
   ],
   "source": [
    "R1 = 3*(P2-P1)\n",
    "R4 = 3*(P4-P3)\n",
    "GH = M.hstack(P1, P4, R1, R4)\n",
    "GH"
   ]
  },
  {
   "cell_type": "markdown",
   "metadata": {
    "id": "z3NsY-YE-_Em"
   },
   "source": [
    "- We find the serial transformation matrices transform $G_B$ to $G_H$\n",
    "- Or find $G_{HB}$ such that: $G_H = G_B G_{HB}$"
   ]
  },
  {
   "cell_type": "code",
   "execution_count": null,
   "metadata": {
    "colab": {
     "base_uri": "https://localhost:8080/",
     "height": 78
    },
    "id": "f2aQvFoK7uNe",
    "outputId": "3dc1c2b0-7500-432a-ee49-6e36ea27b3a8"
   },
   "outputs": [
    {
     "data": {
      "text/latex": [
       "$\\displaystyle \\left[\\begin{matrix}p_{1x} & p_{4x} & p_{3x} & p_{2x}\\\\p_{1y} & p_{4y} & p_{3y} & p_{2y}\\\\p_{1z} & p_{4z} & p_{3z} & p_{2z}\\end{matrix}\\right]$"
      ],
      "text/plain": [
       "⎡p_{1x}  p_{4x}  p_{3x}  p_{2x}⎤\n",
       "⎢                              ⎥\n",
       "⎢p_{1y}  p_{4y}  p_{3y}  p_{2y}⎥\n",
       "⎢                              ⎥\n",
       "⎣p_{1z}  p_{4z}  p_{3z}  p_{2z}⎦"
      ]
     },
     "execution_count": 20,
     "metadata": {},
     "output_type": "execute_result"
    }
   ],
   "source": [
    "# Swtich Column2 (C2) and Column4 (C4)\n",
    "I1 = np.array([ [1, 0, 0, 0],\n",
    "                [0, 0, 0, 1],\n",
    "                [0, 0, 1, 0],\n",
    "                [0, 1, 0, 0]])\n",
    "GB@I1"
   ]
  },
  {
   "cell_type": "code",
   "execution_count": null,
   "metadata": {
    "colab": {
     "base_uri": "https://localhost:8080/",
     "height": 78
    },
    "id": "SWUh46up9D80",
    "outputId": "d6a60165-526d-418f-92ef-8d4ca515ab9f"
   },
   "outputs": [
    {
     "data": {
      "text/latex": [
       "$\\displaystyle \\left[\\begin{matrix}p_{1x} & p_{4x} & p_{2x} & p_{3x}\\\\p_{1y} & p_{4y} & p_{2y} & p_{3y}\\\\p_{1z} & p_{4z} & p_{2z} & p_{3z}\\end{matrix}\\right]$"
      ],
      "text/plain": [
       "⎡p_{1x}  p_{4x}  p_{2x}  p_{3x}⎤\n",
       "⎢                              ⎥\n",
       "⎢p_{1y}  p_{4y}  p_{2y}  p_{3y}⎥\n",
       "⎢                              ⎥\n",
       "⎣p_{1z}  p_{4z}  p_{2z}  p_{3z}⎦"
      ]
     },
     "execution_count": 21,
     "metadata": {},
     "output_type": "execute_result"
    }
   ],
   "source": [
    "# Switch (C3) and (C4): Swtich C3 and C3 from identity matrix\n",
    "I2 = np.array([ [1, 0, 0, 0],\n",
    "                [0, 1, 0, 0],\n",
    "                [0, 0, 0, 1],\n",
    "                [0, 0, 1, 0]])\n",
    "GB@I1@I2"
   ]
  },
  {
   "cell_type": "code",
   "execution_count": null,
   "metadata": {
    "colab": {
     "base_uri": "https://localhost:8080/",
     "height": 78
    },
    "id": "p674oK659qoT",
    "outputId": "db6439f5-40c2-4e0a-a19f-7e416a310ac5"
   },
   "outputs": [
    {
     "data": {
      "text/latex": [
       "$\\displaystyle \\left[\\begin{matrix}p_{1x} & p_{4x} & p_{2x} & - p_{3x}\\\\p_{1y} & p_{4y} & p_{2y} & - p_{3y}\\\\p_{1z} & p_{4z} & p_{2z} & - p_{3z}\\end{matrix}\\right]$"
      ],
      "text/plain": [
       "⎡p_{1x}  p_{4x}  p_{2x}  -p_{3x}⎤\n",
       "⎢                               ⎥\n",
       "⎢p_{1y}  p_{4y}  p_{2y}  -p_{3y}⎥\n",
       "⎢                               ⎥\n",
       "⎣p_{1z}  p_{4z}  p_{2z}  -p_{3z}⎦"
      ]
     },
     "execution_count": 22,
     "metadata": {},
     "output_type": "execute_result"
    }
   ],
   "source": [
    "# Use diagnal matrix to change C4 into negative\n",
    "I3 = np.array([ [1, 0, 0, 0],\n",
    "                [0, 1, 0, 0],\n",
    "                [0, 0, 1, 0],\n",
    "                [0, 0, 0, -1]])\n",
    "GB@I1@I2@I3"
   ]
  },
  {
   "cell_type": "code",
   "execution_count": null,
   "metadata": {
    "colab": {
     "base_uri": "https://localhost:8080/",
     "height": 78
    },
    "id": "qu7u0Sgq_9QM",
    "outputId": "5fe97c31-1892-4cdd-bfce-14f78248b90e"
   },
   "outputs": [
    {
     "data": {
      "text/latex": [
       "$\\displaystyle \\left[\\begin{matrix}p_{1x} & p_{4x} & - p_{1x} + p_{2x} & - p_{3x}\\\\p_{1y} & p_{4y} & - p_{1y} + p_{2y} & - p_{3y}\\\\p_{1z} & p_{4z} & - p_{1z} + p_{2z} & - p_{3z}\\end{matrix}\\right]$"
      ],
      "text/plain": [
       "⎡p_{1x}  p_{4x}  -p_{1x} + p_{2x}  -p_{3x}⎤\n",
       "⎢                                         ⎥\n",
       "⎢p_{1y}  p_{4y}  -p_{1y} + p_{2y}  -p_{3y}⎥\n",
       "⎢                                         ⎥\n",
       "⎣p_{1z}  p_{4z}  -p_{1z} + p_{2z}  -p_{3z}⎦"
      ]
     },
     "execution_count": 31,
     "metadata": {},
     "output_type": "execute_result"
    }
   ],
   "source": [
    "# Subtract C3 (j=3) from C1 (i=1)\n",
    "# Step 1: Init T as an identity matrix\n",
    "# Step 1: For row i: Assign  Tii = 1, Tji=-1\n",
    "\n",
    "I4 = np.array([ [1, 0, -1, 0],\n",
    "                [0, 1, 0, 0],\n",
    "                [0, 0, 1, 0],\n",
    "                [0, 0, 0, 1]])\n",
    "GB@I1@I2@I3@I4"
   ]
  },
  {
   "cell_type": "code",
   "execution_count": null,
   "metadata": {
    "colab": {
     "base_uri": "https://localhost:8080/",
     "height": 78
    },
    "id": "38BrifdNCdhQ",
    "outputId": "0f5ba1b9-7d89-45d9-fcd2-058d3dcd255e"
   },
   "outputs": [
    {
     "data": {
      "text/latex": [
       "$\\displaystyle \\left[\\begin{matrix}p_{1x} & p_{4x} & - p_{1x} + p_{2x} & - p_{3x} + p_{4x}\\\\p_{1y} & p_{4y} & - p_{1y} + p_{2y} & - p_{3y} + p_{4y}\\\\p_{1z} & p_{4z} & - p_{1z} + p_{2z} & - p_{3z} + p_{4z}\\end{matrix}\\right]$"
      ],
      "text/plain": [
       "⎡p_{1x}  p_{4x}  -p_{1x} + p_{2x}  -p_{3x} + p_{4x}⎤\n",
       "⎢                                                  ⎥\n",
       "⎢p_{1y}  p_{4y}  -p_{1y} + p_{2y}  -p_{3y} + p_{4y}⎥\n",
       "⎢                                                  ⎥\n",
       "⎣p_{1z}  p_{4z}  -p_{1z} + p_{2z}  -p_{3z} + p_{4z}⎦"
      ]
     },
     "execution_count": 33,
     "metadata": {},
     "output_type": "execute_result"
    }
   ],
   "source": [
    "# Add C4 (j=4) from C2 (i=2)\n",
    "# Step 1: Init T as an identity matrix\n",
    "# Step 1: For row i: Assign  Tii = 1, Tji=1\n",
    "\n",
    "I5 = np.array([ [1, 0, 0, 0],\n",
    "                [0, 1, 0, 1],\n",
    "                [0, 0, 1, 0],\n",
    "                [0, 0, 0, 1]])\n",
    "GB@I1@I2@I3@I4@I5"
   ]
  },
  {
   "cell_type": "code",
   "execution_count": null,
   "metadata": {
    "colab": {
     "base_uri": "https://localhost:8080/",
     "height": 78
    },
    "id": "FuxsgrkOC-zO",
    "outputId": "2c336f07-5852-4773-ab77-aed9574e253d"
   },
   "outputs": [
    {
     "data": {
      "text/latex": [
       "$\\displaystyle \\left[\\begin{matrix}p_{1x} & p_{4x} & - 3 p_{1x} + 3 p_{2x} & - 3 p_{3x} + 3 p_{4x}\\\\p_{1y} & p_{4y} & - 3 p_{1y} + 3 p_{2y} & - 3 p_{3y} + 3 p_{4y}\\\\p_{1z} & p_{4z} & - 3 p_{1z} + 3 p_{2z} & - 3 p_{3z} + 3 p_{4z}\\end{matrix}\\right]$"
      ],
      "text/plain": [
       "⎡p_{1x}  p_{4x}  -3⋅p_{1x} + 3⋅p_{2x}  -3⋅p_{3x} + 3⋅p_{4x}⎤\n",
       "⎢                                                          ⎥\n",
       "⎢p_{1y}  p_{4y}  -3⋅p_{1y} + 3⋅p_{2y}  -3⋅p_{3y} + 3⋅p_{4y}⎥\n",
       "⎢                                                          ⎥\n",
       "⎣p_{1z}  p_{4z}  -3⋅p_{1z} + 3⋅p_{2z}  -3⋅p_{3z} + 3⋅p_{4z}⎦"
      ]
     },
     "execution_count": 34,
     "metadata": {},
     "output_type": "execute_result"
    }
   ],
   "source": [
    "# Use diagnal matrix to multiple by 3*C3 and 3*C4\n",
    "I6 = np.array([ [1, 0, 0, 0],\n",
    "                [0, 1, 0, 0],\n",
    "                [0, 0, 3, 0],\n",
    "                [0, 0, 0, 3]])\n",
    "GB@I1@I2@I3@I4@I5@I6"
   ]
  },
  {
   "cell_type": "markdown",
   "metadata": {
    "id": "TQt57QWR7szg"
   },
   "source": [
    "Theferefore, $M_{HB} = I_1I_2I_3I_4I_5I_6$"
   ]
  },
  {
   "cell_type": "code",
   "execution_count": null,
   "metadata": {
    "colab": {
     "base_uri": "https://localhost:8080/"
    },
    "id": "DFsEFvfQDYwQ",
    "outputId": "fa7f0729-dfb9-45fe-8a15-40d2dfce21a8"
   },
   "outputs": [
    {
     "data": {
      "text/plain": [
       "array([[ 1,  0, -3,  0],\n",
       "       [ 0,  0,  3,  0],\n",
       "       [ 0,  0,  0, -3],\n",
       "       [ 0,  1,  0,  3]])"
      ]
     },
     "execution_count": 35,
     "metadata": {},
     "output_type": "execute_result"
    }
   ],
   "source": [
    "M_HB = I1@I2@I3@I4@I5@I6\n",
    "M_HB"
   ]
  },
  {
   "cell_type": "markdown",
   "metadata": {
    "id": "GLnVArhbU6Tx"
   },
   "source": [
    "### **3D Examples using Plotly**"
   ]
  },
  {
   "cell_type": "code",
   "execution_count": 1,
   "metadata": {
    "colab": {
     "base_uri": "https://localhost:8080/",
     "height": 542
    },
    "id": "wi-hntvRY-gw",
    "outputId": "865737cd-3d5c-4a58-c596-04c4c13b23e8"
   },
   "outputs": [
    {
     "data": {
      "application/vnd.plotly.v1+json": {
       "config": {
        "plotlyServerURL": "https://plot.ly"
       },
       "data": [
        {
         "line": {
          "color": "blue",
          "width": 2
         },
         "marker": {
          "color": "blue",
          "size": 4
         },
         "mode": "lines+markers",
         "name": "Geometry Points",
         "type": "scatter3d",
         "x": [
          0,
          1,
          2,
          3
         ],
         "y": [
          0,
          1,
          4,
          9
         ],
         "z": [
          0,
          1,
          8,
          27
         ]
        },
        {
         "line": {
          "color": "red",
          "width": 2
         },
         "marker": {
          "color": "red",
          "size": 4
         },
         "mode": "lines+markers",
         "name": "Bezier interpolated points",
         "type": "scatter3d",
         "x": [
          0,
          0.33333333333333326,
          0.6666666666666666,
          1,
          1.3333333333333333,
          1.6666666666666667,
          2,
          2.333333333333333,
          2.666666666666666,
          3
         ],
         "y": [
          0,
          0.40740740740740733,
          0.9629629629629628,
          1.6666666666666667,
          2.518518518518518,
          3.518518518518519,
          4.666666666666666,
          5.962962962962962,
          7.4074074074074066,
          9
         ],
         "z": [
          0,
          0.5637860082304527,
          1.6213991769547325,
          3.2222222222222223,
          5.415637860082304,
          8.251028806584364,
          11.777777777777775,
          16.04526748971193,
          21.10288065843621,
          27
         ]
        }
       ],
       "layout": {
        "scene": {
         "xaxis": {
          "title": {
           "text": "X Axis"
          }
         },
         "yaxis": {
          "title": {
           "text": "Y Axis"
          }
         },
         "zaxis": {
          "title": {
           "text": "Z Axis"
          }
         }
        },
        "template": {
         "data": {
          "bar": [
           {
            "error_x": {
             "color": "#2a3f5f"
            },
            "error_y": {
             "color": "#2a3f5f"
            },
            "marker": {
             "line": {
              "color": "#E5ECF6",
              "width": 0.5
             },
             "pattern": {
              "fillmode": "overlay",
              "size": 10,
              "solidity": 0.2
             }
            },
            "type": "bar"
           }
          ],
          "barpolar": [
           {
            "marker": {
             "line": {
              "color": "#E5ECF6",
              "width": 0.5
             },
             "pattern": {
              "fillmode": "overlay",
              "size": 10,
              "solidity": 0.2
             }
            },
            "type": "barpolar"
           }
          ],
          "carpet": [
           {
            "aaxis": {
             "endlinecolor": "#2a3f5f",
             "gridcolor": "white",
             "linecolor": "white",
             "minorgridcolor": "white",
             "startlinecolor": "#2a3f5f"
            },
            "baxis": {
             "endlinecolor": "#2a3f5f",
             "gridcolor": "white",
             "linecolor": "white",
             "minorgridcolor": "white",
             "startlinecolor": "#2a3f5f"
            },
            "type": "carpet"
           }
          ],
          "choropleth": [
           {
            "colorbar": {
             "outlinewidth": 0,
             "ticks": ""
            },
            "type": "choropleth"
           }
          ],
          "contour": [
           {
            "colorbar": {
             "outlinewidth": 0,
             "ticks": ""
            },
            "colorscale": [
             [
              0,
              "#0d0887"
             ],
             [
              0.1111111111111111,
              "#46039f"
             ],
             [
              0.2222222222222222,
              "#7201a8"
             ],
             [
              0.3333333333333333,
              "#9c179e"
             ],
             [
              0.4444444444444444,
              "#bd3786"
             ],
             [
              0.5555555555555556,
              "#d8576b"
             ],
             [
              0.6666666666666666,
              "#ed7953"
             ],
             [
              0.7777777777777778,
              "#fb9f3a"
             ],
             [
              0.8888888888888888,
              "#fdca26"
             ],
             [
              1,
              "#f0f921"
             ]
            ],
            "type": "contour"
           }
          ],
          "contourcarpet": [
           {
            "colorbar": {
             "outlinewidth": 0,
             "ticks": ""
            },
            "type": "contourcarpet"
           }
          ],
          "heatmap": [
           {
            "colorbar": {
             "outlinewidth": 0,
             "ticks": ""
            },
            "colorscale": [
             [
              0,
              "#0d0887"
             ],
             [
              0.1111111111111111,
              "#46039f"
             ],
             [
              0.2222222222222222,
              "#7201a8"
             ],
             [
              0.3333333333333333,
              "#9c179e"
             ],
             [
              0.4444444444444444,
              "#bd3786"
             ],
             [
              0.5555555555555556,
              "#d8576b"
             ],
             [
              0.6666666666666666,
              "#ed7953"
             ],
             [
              0.7777777777777778,
              "#fb9f3a"
             ],
             [
              0.8888888888888888,
              "#fdca26"
             ],
             [
              1,
              "#f0f921"
             ]
            ],
            "type": "heatmap"
           }
          ],
          "heatmapgl": [
           {
            "colorbar": {
             "outlinewidth": 0,
             "ticks": ""
            },
            "colorscale": [
             [
              0,
              "#0d0887"
             ],
             [
              0.1111111111111111,
              "#46039f"
             ],
             [
              0.2222222222222222,
              "#7201a8"
             ],
             [
              0.3333333333333333,
              "#9c179e"
             ],
             [
              0.4444444444444444,
              "#bd3786"
             ],
             [
              0.5555555555555556,
              "#d8576b"
             ],
             [
              0.6666666666666666,
              "#ed7953"
             ],
             [
              0.7777777777777778,
              "#fb9f3a"
             ],
             [
              0.8888888888888888,
              "#fdca26"
             ],
             [
              1,
              "#f0f921"
             ]
            ],
            "type": "heatmapgl"
           }
          ],
          "histogram": [
           {
            "marker": {
             "pattern": {
              "fillmode": "overlay",
              "size": 10,
              "solidity": 0.2
             }
            },
            "type": "histogram"
           }
          ],
          "histogram2d": [
           {
            "colorbar": {
             "outlinewidth": 0,
             "ticks": ""
            },
            "colorscale": [
             [
              0,
              "#0d0887"
             ],
             [
              0.1111111111111111,
              "#46039f"
             ],
             [
              0.2222222222222222,
              "#7201a8"
             ],
             [
              0.3333333333333333,
              "#9c179e"
             ],
             [
              0.4444444444444444,
              "#bd3786"
             ],
             [
              0.5555555555555556,
              "#d8576b"
             ],
             [
              0.6666666666666666,
              "#ed7953"
             ],
             [
              0.7777777777777778,
              "#fb9f3a"
             ],
             [
              0.8888888888888888,
              "#fdca26"
             ],
             [
              1,
              "#f0f921"
             ]
            ],
            "type": "histogram2d"
           }
          ],
          "histogram2dcontour": [
           {
            "colorbar": {
             "outlinewidth": 0,
             "ticks": ""
            },
            "colorscale": [
             [
              0,
              "#0d0887"
             ],
             [
              0.1111111111111111,
              "#46039f"
             ],
             [
              0.2222222222222222,
              "#7201a8"
             ],
             [
              0.3333333333333333,
              "#9c179e"
             ],
             [
              0.4444444444444444,
              "#bd3786"
             ],
             [
              0.5555555555555556,
              "#d8576b"
             ],
             [
              0.6666666666666666,
              "#ed7953"
             ],
             [
              0.7777777777777778,
              "#fb9f3a"
             ],
             [
              0.8888888888888888,
              "#fdca26"
             ],
             [
              1,
              "#f0f921"
             ]
            ],
            "type": "histogram2dcontour"
           }
          ],
          "mesh3d": [
           {
            "colorbar": {
             "outlinewidth": 0,
             "ticks": ""
            },
            "type": "mesh3d"
           }
          ],
          "parcoords": [
           {
            "line": {
             "colorbar": {
              "outlinewidth": 0,
              "ticks": ""
             }
            },
            "type": "parcoords"
           }
          ],
          "pie": [
           {
            "automargin": true,
            "type": "pie"
           }
          ],
          "scatter": [
           {
            "fillpattern": {
             "fillmode": "overlay",
             "size": 10,
             "solidity": 0.2
            },
            "type": "scatter"
           }
          ],
          "scatter3d": [
           {
            "line": {
             "colorbar": {
              "outlinewidth": 0,
              "ticks": ""
             }
            },
            "marker": {
             "colorbar": {
              "outlinewidth": 0,
              "ticks": ""
             }
            },
            "type": "scatter3d"
           }
          ],
          "scattercarpet": [
           {
            "marker": {
             "colorbar": {
              "outlinewidth": 0,
              "ticks": ""
             }
            },
            "type": "scattercarpet"
           }
          ],
          "scattergeo": [
           {
            "marker": {
             "colorbar": {
              "outlinewidth": 0,
              "ticks": ""
             }
            },
            "type": "scattergeo"
           }
          ],
          "scattergl": [
           {
            "marker": {
             "colorbar": {
              "outlinewidth": 0,
              "ticks": ""
             }
            },
            "type": "scattergl"
           }
          ],
          "scattermapbox": [
           {
            "marker": {
             "colorbar": {
              "outlinewidth": 0,
              "ticks": ""
             }
            },
            "type": "scattermapbox"
           }
          ],
          "scatterpolar": [
           {
            "marker": {
             "colorbar": {
              "outlinewidth": 0,
              "ticks": ""
             }
            },
            "type": "scatterpolar"
           }
          ],
          "scatterpolargl": [
           {
            "marker": {
             "colorbar": {
              "outlinewidth": 0,
              "ticks": ""
             }
            },
            "type": "scatterpolargl"
           }
          ],
          "scatterternary": [
           {
            "marker": {
             "colorbar": {
              "outlinewidth": 0,
              "ticks": ""
             }
            },
            "type": "scatterternary"
           }
          ],
          "surface": [
           {
            "colorbar": {
             "outlinewidth": 0,
             "ticks": ""
            },
            "colorscale": [
             [
              0,
              "#0d0887"
             ],
             [
              0.1111111111111111,
              "#46039f"
             ],
             [
              0.2222222222222222,
              "#7201a8"
             ],
             [
              0.3333333333333333,
              "#9c179e"
             ],
             [
              0.4444444444444444,
              "#bd3786"
             ],
             [
              0.5555555555555556,
              "#d8576b"
             ],
             [
              0.6666666666666666,
              "#ed7953"
             ],
             [
              0.7777777777777778,
              "#fb9f3a"
             ],
             [
              0.8888888888888888,
              "#fdca26"
             ],
             [
              1,
              "#f0f921"
             ]
            ],
            "type": "surface"
           }
          ],
          "table": [
           {
            "cells": {
             "fill": {
              "color": "#EBF0F8"
             },
             "line": {
              "color": "white"
             }
            },
            "header": {
             "fill": {
              "color": "#C8D4E3"
             },
             "line": {
              "color": "white"
             }
            },
            "type": "table"
           }
          ]
         },
         "layout": {
          "annotationdefaults": {
           "arrowcolor": "#2a3f5f",
           "arrowhead": 0,
           "arrowwidth": 1
          },
          "autotypenumbers": "strict",
          "coloraxis": {
           "colorbar": {
            "outlinewidth": 0,
            "ticks": ""
           }
          },
          "colorscale": {
           "diverging": [
            [
             0,
             "#8e0152"
            ],
            [
             0.1,
             "#c51b7d"
            ],
            [
             0.2,
             "#de77ae"
            ],
            [
             0.3,
             "#f1b6da"
            ],
            [
             0.4,
             "#fde0ef"
            ],
            [
             0.5,
             "#f7f7f7"
            ],
            [
             0.6,
             "#e6f5d0"
            ],
            [
             0.7,
             "#b8e186"
            ],
            [
             0.8,
             "#7fbc41"
            ],
            [
             0.9,
             "#4d9221"
            ],
            [
             1,
             "#276419"
            ]
           ],
           "sequential": [
            [
             0,
             "#0d0887"
            ],
            [
             0.1111111111111111,
             "#46039f"
            ],
            [
             0.2222222222222222,
             "#7201a8"
            ],
            [
             0.3333333333333333,
             "#9c179e"
            ],
            [
             0.4444444444444444,
             "#bd3786"
            ],
            [
             0.5555555555555556,
             "#d8576b"
            ],
            [
             0.6666666666666666,
             "#ed7953"
            ],
            [
             0.7777777777777778,
             "#fb9f3a"
            ],
            [
             0.8888888888888888,
             "#fdca26"
            ],
            [
             1,
             "#f0f921"
            ]
           ],
           "sequentialminus": [
            [
             0,
             "#0d0887"
            ],
            [
             0.1111111111111111,
             "#46039f"
            ],
            [
             0.2222222222222222,
             "#7201a8"
            ],
            [
             0.3333333333333333,
             "#9c179e"
            ],
            [
             0.4444444444444444,
             "#bd3786"
            ],
            [
             0.5555555555555556,
             "#d8576b"
            ],
            [
             0.6666666666666666,
             "#ed7953"
            ],
            [
             0.7777777777777778,
             "#fb9f3a"
            ],
            [
             0.8888888888888888,
             "#fdca26"
            ],
            [
             1,
             "#f0f921"
            ]
           ]
          },
          "colorway": [
           "#636efa",
           "#EF553B",
           "#00cc96",
           "#ab63fa",
           "#FFA15A",
           "#19d3f3",
           "#FF6692",
           "#B6E880",
           "#FF97FF",
           "#FECB52"
          ],
          "font": {
           "color": "#2a3f5f"
          },
          "geo": {
           "bgcolor": "white",
           "lakecolor": "white",
           "landcolor": "#E5ECF6",
           "showlakes": true,
           "showland": true,
           "subunitcolor": "white"
          },
          "hoverlabel": {
           "align": "left"
          },
          "hovermode": "closest",
          "mapbox": {
           "style": "light"
          },
          "paper_bgcolor": "white",
          "plot_bgcolor": "#E5ECF6",
          "polar": {
           "angularaxis": {
            "gridcolor": "white",
            "linecolor": "white",
            "ticks": ""
           },
           "bgcolor": "#E5ECF6",
           "radialaxis": {
            "gridcolor": "white",
            "linecolor": "white",
            "ticks": ""
           }
          },
          "scene": {
           "xaxis": {
            "backgroundcolor": "#E5ECF6",
            "gridcolor": "white",
            "gridwidth": 2,
            "linecolor": "white",
            "showbackground": true,
            "ticks": "",
            "zerolinecolor": "white"
           },
           "yaxis": {
            "backgroundcolor": "#E5ECF6",
            "gridcolor": "white",
            "gridwidth": 2,
            "linecolor": "white",
            "showbackground": true,
            "ticks": "",
            "zerolinecolor": "white"
           },
           "zaxis": {
            "backgroundcolor": "#E5ECF6",
            "gridcolor": "white",
            "gridwidth": 2,
            "linecolor": "white",
            "showbackground": true,
            "ticks": "",
            "zerolinecolor": "white"
           }
          },
          "shapedefaults": {
           "line": {
            "color": "#2a3f5f"
           }
          },
          "ternary": {
           "aaxis": {
            "gridcolor": "white",
            "linecolor": "white",
            "ticks": ""
           },
           "baxis": {
            "gridcolor": "white",
            "linecolor": "white",
            "ticks": ""
           },
           "bgcolor": "#E5ECF6",
           "caxis": {
            "gridcolor": "white",
            "linecolor": "white",
            "ticks": ""
           }
          },
          "title": {
           "x": 0.05
          },
          "xaxis": {
           "automargin": true,
           "gridcolor": "white",
           "linecolor": "white",
           "ticks": "",
           "title": {
            "standoff": 15
           },
           "zerolinecolor": "white",
           "zerolinewidth": 2
          },
          "yaxis": {
           "automargin": true,
           "gridcolor": "white",
           "linecolor": "white",
           "ticks": "",
           "title": {
            "standoff": 15
           },
           "zerolinecolor": "white",
           "zerolinewidth": 2
          }
         }
        },
        "title": {
         "text": "3D Line with Markers"
        }
       }
      }
     },
     "metadata": {},
     "output_type": "display_data"
    }
   ],
   "source": [
    "import numpy as np\n",
    "\n",
    "P1 = np.array([0, 0, 0])\n",
    "P2 = np.array([1, 1, 1])\n",
    "P3 = np.array([2, 4, 8])\n",
    "P4 = np.array([3, 9, 27])\n",
    "\n",
    "G_B = np.stack([P1.T, P2.T, P3.T, P4.T], axis=1)\n",
    "N = 10\n",
    "time = np.linspace(0, 1, N)\n",
    "B_B = np.zeros((4,1)) # Blending Function\n",
    "Q = np.zeros((3, N)) # N 3D-points\n",
    "for i, t in enumerate(time): # t in [0, 1]\n",
    "  B_B[0] = (1-t)**3\n",
    "  B_B[1] = 3*t*(1-t)**2\n",
    "  B_B[2] = 3*t**2*(1-t)\n",
    "  B_B[3] = t**3\n",
    "  Q[:,i] = (G_B@B_B).reshape((3,))\n",
    "\n",
    "# Visualize\n",
    "import plotly.graph_objects as go\n",
    "fig = go.Figure()\n",
    "# Add the 3D lines, points for geometry matrix\n",
    "fig.add_trace(go.Scatter3d(\n",
    "    x=G_B[0,:],\n",
    "    y=G_B[1,:],\n",
    "    z=G_B[2,:],\n",
    "    name='Geometry Points',\n",
    "    mode='lines+markers',  # Add both lines and markers\n",
    "    line=dict(width=2, color='blue'),\n",
    "    marker=dict(size=4, color='blue')  # Marker styling\n",
    "))\n",
    "\n",
    "# Add the interpolated 3D points\n",
    "fig.add_trace(go.Scatter3d(\n",
    "    x=Q[0,:],\n",
    "    y=Q[1,:],\n",
    "    z=Q[2,:],\n",
    "    name='Bezier interpolated points',\n",
    "    mode='lines+markers',\n",
    "    line=dict(width=2, color='red'),\n",
    "    marker=dict(size=4, color='red')  # Marker styling\n",
    "))\n",
    "\n",
    "# Update layout\n",
    "fig.update_layout(\n",
    "    title='3D Line with Markers',\n",
    "    scene=dict(\n",
    "        xaxis_title='X Axis',\n",
    "        yaxis_title='Y Axis',\n",
    "        zaxis_title='Z Axis'\n",
    "    )\n",
    ")\n",
    "\n",
    "fig.show()\n"
   ]
  }
 ],
 "metadata": {
  "colab": {
   "provenance": []
  },
  "kernelspec": {
   "display_name": "base",
   "language": "python",
   "name": "python3"
  },
  "language_info": {
   "codemirror_mode": {
    "name": "ipython",
    "version": 3
   },
   "file_extension": ".py",
   "mimetype": "text/x-python",
   "name": "python",
   "nbconvert_exporter": "python",
   "pygments_lexer": "ipython3",
   "version": "3.9.12"
  }
 },
 "nbformat": 4,
 "nbformat_minor": 0
}
