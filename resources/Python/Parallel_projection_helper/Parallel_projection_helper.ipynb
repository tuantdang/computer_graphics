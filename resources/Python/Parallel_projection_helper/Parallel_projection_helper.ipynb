{
  "nbformat": 4,
  "nbformat_minor": 0,
  "metadata": {
    "colab": {
      "provenance": []
    },
    "kernelspec": {
      "name": "python3",
      "display_name": "Python 3"
    },
    "language_info": {
      "name": "python"
    }
  },
  "cells": [
    {
      "cell_type": "markdown",
      "source": [
        "#  Parallel Projection Helper\n",
        "\n",
        "This notebook provides a walkthrough of the few initial steps involved in the parallel projection process, offering an understanding of how the projection matrix is formed. While the preliminary calculations are outlined, your goal is to extend this notebook by completing the remaining steps necessary to derive the full parallel projection composite matrix. This involves continuing the matrix transformations and calculations that represent the complete parallel projection composite matrix\n",
        "\n",
        "Farhad Kamangar 2024"
      ],
      "metadata": {
        "id": "vqMsnVrQGANm"
      }
    },
    {
      "cell_type": "markdown",
      "source": [
        "# Note about Homogeneous Coordinates:\n",
        "In 3D space, a point (x,y,z) is typically represented in homogeneous coordinates as (x,y,z,w), where w is the additional homogeneous coordinate.\n",
        "When w=1, the point represents a finite, regular point in space.\n",
        "When\n",
        "w=0, the representation is used to denote a vector or direction rather than a specific location in space.\n",
        "\n",
        "When performing transformations like translation, it is important to distinguish between points and vectors.\n",
        "Points move when translated, but vectors should not be affected by translations (only by rotations, scaling, etc.).\n",
        "Setting w=0 for vectors ensures that when a translation matrix is applied, the vector remains unchanged, because translation only affects entities with a w value of 1 (i.e., points).\n",
        "\n",
        "Homogeneous coordinates allow us to use a single matrix (4x4 in 3D) to apply all types of transformations—translation, rotation, scaling—uniformly.\n",
        "By setting\n",
        "w=0 for vectors, we can apply these transformations correctly without moving vectors, which is crucial for maintaining correct geometry during operations."
      ],
      "metadata": {
        "id": "RkuCWx-5JhoK"
      }
    },
    {
      "cell_type": "markdown",
      "source": [
        "# Parameters for Parallel Projection:\n",
        "VRP: Where the camera is located (Specified in World Coordinates).\n",
        "\n",
        "VPN: Direction the camera is facing (normal to the view plane)(Specified in World Coordinates).\n",
        "\n",
        "VUP: Defines the camera \"up\" direction (Specified in World Coordinates).\n",
        "\n",
        "PRP: (Projection Reference Point) Point from which projection rays originate (Specified in View/Camera Coordinates).\n",
        "\n",
        "DOP (Direction of Projection): is defined as the direction in which the scene is projected onto the view plane. DOP can be calculated established as a vector from the PRP to the center of the 2D window (the center of the 2D projection plane)."
      ],
      "metadata": {
        "id": "zaFSSOakLFkK"
      }
    },
    {
      "cell_type": "markdown",
      "source": [
        "# 3D View Volume\n",
        "\n",
        "In the parallel projection, the view volume is a cuboid (a quadrilateral-faced convex hexahedron) or in simple words it is a shoe box which is bounded by six planes.\n",
        "\n",
        "umin, umax, vmin, vmax, nmin, and nmax are typically used to define the viewing volume for the parallel projection. These parameters are usually employed in the context of clipping, where objects outside the viewing volume are discarded or clipped.\n",
        "\n",
        "In the parallel projection, the 3D view volume can be mapped to a unit cube which is bounded by the planes x=0 ; x = 1 ; y=0 ; y = 1 ; z=0 ; z=1. However, It is more common to map the parallel projection view volume to a rectangular box (cuboid) which is bounded by the planes x=-1 ; x = 1 ; y=-1 ; y = 1 ; z=0 ; z=1. This is done to make the parallel projection parameters more consistent with the perspective projection parameters.\n",
        "\n",
        "Note: For perspective projections, the view volume is a frustum (a pyramid with the top cut off)."
      ],
      "metadata": {
        "id": "qHNpPEkaokah"
      }
    },
    {
      "cell_type": "code",
      "execution_count": 2,
      "metadata": {
        "colab": {
          "base_uri": "https://localhost:8080/"
        },
        "id": "lmor4ujqF0ca",
        "outputId": "8f33c083-0f2e-40a4-84e2-f9b5497cfd9e"
      },
      "outputs": [
        {
          "output_type": "stream",
          "name": "stdout",
          "text": [
            "[[3.        ]\n",
            " [0.        ]\n",
            " [8.24621125]\n",
            " [0.        ]]\n",
            "[[-2.77555756e-17]\n",
            " [ 0.00000000e+00]\n",
            " [ 8.77496439e+00]\n",
            " [ 0.00000000e+00]]\n",
            "[[-6.66133815e-16]\n",
            " [ 1.26380681e+01]\n",
            " [ 5.39033527e+01]\n",
            " [ 0.00000000e+00]]\n"
          ]
        }
      ],
      "source": [
        "import numpy as np\n",
        "\n",
        "VRP=np.array([[4],[5],[6],[1]])\n",
        "VPN=np.array([[3],[-2],[8],[0]])\n",
        "VUP=np.array([[1],[5],[60],[0]])\n",
        "PRP=np.array([[8],[-5],[7],[1]])\n",
        "umin=-3\n",
        "umax=6\n",
        "vmin=12\n",
        "vmax=20\n",
        "nmin=4\n",
        "nmax=16\n",
        "\n",
        "# Define translation matrix\n",
        "T1 = np.array([[1,0,0,-float(VRP[0,0])],[0,1,0,-float(VRP[1,0])],[0,0,1,-float(VRP[2,0])],[0,0,0,1]])\n",
        "a,b,c,w=np.ravel(VPN)\n",
        "temp_denom=np.sqrt(b*b+c*c)\n",
        "if temp_denom==0:\n",
        "  Rx = np.array([[1,0,0,0],[0,1,0,0],[0,0,1,0],[0,0,0,1]])\n",
        "else:\n",
        "  Rx = np.array([[1,0,0,0],[0,c/temp_denom,-b/temp_denom,0],[0,b/temp_denom,c/temp_denom,0],[0,0,0,1]])\n",
        "CM=Rx.dot(T1)  # Composite matrix up to this point\n",
        "# The next two lines are not needed.\n",
        "# They are here only to test if the VPNpp is in the xz plane\n",
        "VPNpp=CM.dot(VPN)\n",
        "print(VPNpp)\n",
        "VPNpp=CM.dot(VPN)\n",
        "a,b,c,w=np.ravel(VPNpp)\n",
        "temp_denom=np.sqrt(a*a+c*c)\n",
        "if temp_denom==0:\n",
        "  Ry = np.array([[1,0,0,0],[0,1,0,0],[0,0,1,0],[0,0,0,1]])\n",
        "else:\n",
        "  Ry = np.array([[c/temp_denom,0,-a/temp_denom,0],[0,1,0,0],[a/temp_denom,0,c/temp_denom,0],[0,0,0,1]])\n",
        "CM=Ry.dot(CM)  # Composite matrix up to this point\n",
        "\n",
        "# The next two lines are not needed.\n",
        "# They are here only to test if the VPNppp is aligned with z axis\n",
        "VPNppp=CM.dot(VPN)\n",
        "print(VPNppp)\n",
        "# Rotate VUP around z\n",
        "VUPppp=CM.dot(VUP)\n",
        "a,b,c,w=np.ravel(VUPppp)\n",
        "temp_denom=np.sqrt(a*a+c*c)\n",
        "if temp_denom==0:\n",
        "  Rz = np.array([[1,0,0,0],[0,1,0,0],[0,0,1,0],[0,0,0,1]])\n",
        "else:\n",
        "  Rz = np.array([[b/temp_denom,-a/temp_denom,0,0],[a/temp_denom,b/temp_denom,0,0],[0,0,1,0],[0,0,0,1]])\n",
        "CM=Rz.dot(CM)  # Composite matrix up to this point\n",
        "# The next two lines are not needed.\n",
        "# They are here only to test if the VUPpppp is in the yz plane\n",
        "VUPpppp=CM.dot(VUP)\n",
        "print(VUPpppp)\n",
        "# complete the remaining steps necessary to derive the full parallel projection composite matrix.\n"
      ]
    }
  ]
}