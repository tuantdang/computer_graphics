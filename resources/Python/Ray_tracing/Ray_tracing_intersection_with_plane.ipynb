{
 "cells": [
  {
   "cell_type": "markdown",
   "metadata": {
    "id": "yGcVOM-g8Fy2"
   },
   "source": [
    "# Calculation of the intersection of rays with planes\n",
    "In ray tracing, calculating where a ray intersects with a plane is a fundamental operation that plays a vital role in simulating realistic lighting and reflections in three-dimensional scenes. This intersection calculation is crucial because it allows for the accurate rendering of how light interacts with surfaces, enabling the creation of lifelike images.\n",
    "\n",
    "When a ray is cast into the scene, it can represent various elements, such as light paths from a camera or reflections from objects. To understand how these rays interact with surfaces, we need to determine whether they intersect with any planes that represent those surfaces. This involves solving mathematical equations that describe both the ray and the plane.\n",
    "\n",
    "The ray is typically defined by an origin point and a direction vector, while the plane is defined by a point on the plane and a normal vector that is perpendicular to its surface. By substituting the ray's equation into the plane's equation, we can derive a parameter that indicates whether an intersection occurs and, if so, at what point.\n",
    "\n",
    "If an intersection is found, this point can then be used to compute various lighting effects, such as shading, reflections, and refractions. For example, in reflective surfaces, the angle of incidence at the intersection point determines how the light is reflected, which is essential for achieving realism in rendering.\n",
    "\n",
    "Thus, the ability to accurately compute ray-plane intersections is not just a mathematical necessity but a cornerstone of achieving high-quality visual effects in computer graphics. Through this process, ray tracing can create visually stunning scenes that mimic the complexities of real-world lighting and material interactions.\n",
    "\n",
    "This document has been prepared with the assitance from ChatGPT\n",
    "\n",
    "Farhad Kamangar 2024.\n",
    "\n",
    "# Ray-Plane Intersection Equations\n",
    "\n",
    "For ray tracing, calculating the intersection of a ray with a plane involves using a parameterized equation for the ray and an implicit equation for the plane. Here’s a breakdown of how this is typically formulated:\n",
    "\n",
    "## 1. Define the Ray\n",
    "\n",
    "A ray can be defined with an origin point $\\mathbf{O}$ and a direction vector $\\mathbf{\\overrightarrow {D}}$ as:\n",
    "$$\n",
    "\\mathbf{R}(t) = \\mathbf{O} + t \\mathbf{\\overrightarrow {D}}\n",
    "$$\n",
    "where:\n",
    "- $\\mathbf{O}$ is the origin point of the ray.\n",
    "- $\\mathbf{\\overrightarrow {D}}$ is the direction vector of the ray.\n",
    "- $t$ is a scalar parameter that determines how far along the ray we are from the origin.\n",
    "\n",
    "## 2. Define the Plane\n",
    "\n",
    "A plane can be defined using a point $\\mathbf{P_0}$ located on the plane and a normal vector $\\mathbf{\\overrightarrow {N}}$ that is perpendicular to the plane's surface. Any vector lying within the plane will be orthogonal to the normal vector. This relationship can be expressed mathematically as follows:\n",
    "\n",
    "$$\n",
    "\\mathbf{\\overrightarrow {N}} \\cdot (\\mathbf{P} - \\mathbf{P_0}) = 0\n",
    "$$\n",
    "or equivalently,\n",
    "$$\n",
    "\\mathbf{\\overrightarrow {N}} \\cdot \\mathbf{P} = \\mathbf{\\overrightarrow {N}} \\cdot \\mathbf{P_0}\n",
    "$$\n",
    "where:\n",
    "- $\\mathbf{\\overrightarrow {N}}$ is the normal vector of the plane.\n",
    "- $\\mathbf{P}$ is any point on the plane (specifically, the intersection point we're trying to find).\n",
    "- $\\mathbf{P_0}$ is a known point on the plane.\n",
    "\n",
    "## 3. Substitute the Ray Equation into the Plane Equation\n",
    "\n",
    "To find the intersection, substitute $\\mathbf{R}(t) = \\mathbf{O} + t \\mathbf{\\overrightarrow {D}}$ into the plane equation:\n",
    "$$\n",
    "\\mathbf{\\overrightarrow {N}} \\cdot (\\mathbf{O} +  \\mathbf{\\overrightarrow {D}} )t = \\mathbf{\\overrightarrow {N}} \\cdot \\mathbf{P_0}\n",
    "$$\n",
    "\n",
    "Expanding this, we get:\n",
    "$$\n",
    "\\mathbf{\\overrightarrow {N}} \\cdot \\mathbf{O} + (\\mathbf{\\overrightarrow {N}} \\cdot \\mathbf{\\overrightarrow {D}} )t = \\mathbf{\\overrightarrow {N}} \\cdot \\mathbf{P_0}\n",
    "$$\n",
    "\n",
    "Rearrange to solve for $t$:\n",
    "$$\n",
    "t = \\frac{\\mathbf{\\overrightarrow {N}} \\cdot (\\mathbf{P_0} - \\mathbf{O})}{\\mathbf{\\overrightarrow {N}} \\cdot \\mathbf{\\overrightarrow {D}}}\n",
    "$$\n",
    "\n",
    "## 4. Interpret the Result\n",
    "\n",
    "- **If $\\mathbf{\\overrightarrow {N}} \\cdot \\mathbf{\\overrightarrow {D}} = 0$**, the ray is parallel to the plane, and there is either no intersection (if $\\mathbf{\\overrightarrow {N}} \\cdot (\\mathbf{P_0} - \\mathbf{O}) \\neq 0$) or the ray lies on the plane (if $\\mathbf{\\overrightarrow {N}} \\cdot (\\mathbf{P_0} - \\mathbf{O}) = 0$).\n",
    "- **If $t \\geq 0$**, the intersection point $\\mathbf{P} = \\mathbf{O} + t \\mathbf{\\overrightarrow {D}}$ lies along the ray in the direction of $\\mathbf{\\overrightarrow {D}}$.\n",
    "- **If $t < 0$**, the intersection point would be \"behind\" the ray's origin.\n",
    "\n",
    "## 5. Intersection Point\n",
    "\n",
    "When there is an intersection, the point $\\mathbf{P}$ of intersection is:\n",
    "$$\n",
    "\\mathbf{P} = \\mathbf{O} + t \\mathbf{\\overrightarrow {D}}\n",
    "$$\n"
   ]
  },
  {
   "cell_type": "code",
   "execution_count": null,
   "metadata": {},
   "outputs": [],
   "source": []
  }
 ],
 "metadata": {
  "colab": {
   "provenance": []
  },
  "kernelspec": {
   "display_name": "Python 3 (ipykernel)",
   "language": "python",
   "name": "python3"
  },
  "language_info": {
   "codemirror_mode": {
    "name": "ipython",
    "version": 3
   },
   "file_extension": ".py",
   "mimetype": "text/x-python",
   "name": "python",
   "nbconvert_exporter": "python",
   "pygments_lexer": "ipython3",
   "version": "3.12.4"
  }
 },
 "nbformat": 4,
 "nbformat_minor": 4
}
