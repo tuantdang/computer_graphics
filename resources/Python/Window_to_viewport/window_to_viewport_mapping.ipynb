{
 "cells": [
  {
   "cell_type": "markdown",
   "metadata": {},
   "source": [
    "#  Window to Viewport Mapping\n",
    "\n",
    "This notebook introduces the transformation from window coordinates to the viewport coordinates.\n",
    "\n",
    "Farhad Kamangar 2017"
   ]
  },
  {
   "cell_type": "markdown",
   "metadata": {},
   "source": [
    "## Definitions\n",
    "\n",
    "** World Coordinate** - Is the space in which the objects are defined.\n",
    "\n",
    "** Screen Coordinate**  - The screen space in which the image is displayed.\n",
    "\n",
    "** Window** - Is the rectangle in the world coordinates defining the region that is to be displayed. This rectangle is also used for 2-dimensional clipping..\n",
    "\n",
    "**Viewport** - The rectangular portion of the screen that defines where the image should appear."
   ]
  },
  {
   "cell_type": "markdown",
   "metadata": {},
   "source": [
    "## Window to Viewport Mapping (Transformation)\n",
    "The window to viewport mapping is the process of mapping a world window in World Coordinates to the Viewport coordinates which is in screen coordinates.\n",
    "\n",
    "Window and viewport coordinates are usually specified by giving the minimums and maximums of  x and y of the opposite corners.\n",
    "\n",
    "<table style=\"width:100%\">\n",
    "\n",
    "<tr>\n",
    "    <td> <img  src=\"U359KSKWRJM354FMGCI2ODN7YRSOPR6E.png\"/> </td>\n",
    "    <td> <img  src=\"XFIKBVURM3K4YKPCP4HQ608W138F0K69.png\"/> </td>\n",
    "    </tr>\n",
    "</table>\n",
    "\n",
    "Notes: \n",
    "* Window coordinates are real numbers while viewport coordinates are integers (because they are pixels on screen).\n",
    "* The origin of the device (screen) coordinate system is usually at the upper left corner (positive y axis is downward).\n",
    "* Normalized viewport coordinates are defined as the ratio of the  viewport coordinates to the resolution of the monitor. \n"
   ]
  },
  {
   "cell_type": "markdown",
   "metadata": {},
   "source": [
    "### Mathematics of Mapping Window to Viewport \n",
    "Given: \n",
    "\n",
    "($X_{wmin}, Y_{wmin}$) and ($X_{wmax}, Y_{wmax}$), the coordinates of the two opposite corners of the window.\n",
    "\n",
    "($X_{vmin}, Y_{vmin}$) and ($X_{vmax}, Y_{vmax}$), the coordinates of the two opposite corners of the viewport.  \n",
    "\n",
    "2D world coordinates of point $P = \\left[ {\\matrix{ x  \\cr y  \\cr  } } \\right]$;\n",
    "\n",
    "Find the coordinates of the corresponding point in the viewport $P' = \\left[ {\\matrix{ x'  \\cr y'  \\cr  } } \\right]$.  \n",
    "\n",
    " ** Solution:**\n",
    "* Find the distance between point p and left boundary of window $\\large d_x=(x – X_{wmin})$\n",
    "* Calculate the ratio of the viewport width to the window width $\\large s_x = {{(X_{vmax} - X_{vmin})} \\over {(X_{wmax} - X_{wmin})}}$\n",
    "* Scale  $d_x$  by  $s_x$  to find the distance of point $p’$ from the left boundary of the viewport  $\\large d’_x= d_x s_x$\n",
    "* Add $d’_x$  to $X_{vmin}$ to find the screen x coordinate of the point $p’$ :     $\\large x’= X_{vmin} + d’_x$\n",
    "\n",
    "In a similar manner, you can find $y’$.  But it’s critical to notice that in the screen coordinates, the y-component increases in the downward direction.\n",
    "\n",
    "* Find the distance between point p and **top** boundary of window $\\large d_y=(Y_{wmax}-y)$\n",
    "\n",
    "* Calculate the ratio of the viewport height to the window height $\\large s_y = {{(Y_{vmax} - Y_{vmin})} \\over {(Y_{wmax} - Y_{wmin})}}$      \n",
    "\n",
    "* Scale  $d_y$  by  $s_y$  to find the distance of point $p’$ from the top boundary of the viewport $\\large d’_y= d_y s_y$\n",
    "\n",
    "* Add $d’_y$  to $Y_{vmin}$ to find the screen y coordinate of the point $p’$ : $\\large y’= Y_{vmin} + d’_y$\n"
   ]
  },
  {
   "cell_type": "code",
   "execution_count": 1,
   "metadata": {
    "collapsed": false,
    "ExecuteTime": {
     "end_time": "2024-09-24T21:09:28.577100100Z",
     "start_time": "2024-09-24T21:09:28.567548900Z"
    }
   },
   "outputs": [
    {
     "name": "stdout",
     "output_type": "stream",
     "text": [
      "World coordinates of point p is =  5.2  ,  0.2  Screen coordinates of point p is =  948  ,  761\n"
     ]
    }
   ],
   "source": [
    "# Assuming a point in the world coordinate system\n",
    "pwx=5.2\n",
    "pwy=0.2\n",
    "# Define window coordinates\n",
    "xwmin=-1000.6\n",
    "xwmax=20\n",
    "ywmin=1.9\n",
    "ywmax=10\n",
    "# Define normalized viewport coordinates\n",
    "nxvmin=.1\n",
    "nxvmax=.5\n",
    "nyvmin=.1\n",
    "nyvmax=.6\n",
    "# Define screen resolution\n",
    "screen_width=1920\n",
    "screen_height=1080\n",
    "# Find actual viewport coordinates\n",
    "xvmin=int(nxvmin*screen_width)\n",
    "xvmax=int(nxvmax*screen_width)\n",
    "yvmin=int(nyvmin*screen_height)\n",
    "yvmax=int(nyvmax*screen_height)\n",
    "# Calculate screen coordinates of point p\n",
    "sx=(xvmax-xvmin)/(xwmax-xwmin)\n",
    "psx=xvmin+int(sx*(pwx-xwmin))\n",
    "sy=(yvmax-yvmin)/(ywmax-ywmin)\n",
    "psy=yvmin+int(sy*(ywmax-pwy))\n",
    "\n",
    "print(\"World coordinates of point p is = \", pwx,\" , \",pwy, \" Screen coordinates of point p is = \",psx,\" , \",psy)\n",
    "\n"
   ]
  }
 ],
 "metadata": {
  "anaconda-cloud": {},
  "kernelspec": {
   "name": "python3",
   "language": "python",
   "display_name": "Python 3 (ipykernel)"
  },
  "language_info": {
   "codemirror_mode": {
    "name": "ipython",
    "version": 3
   },
   "file_extension": ".py",
   "mimetype": "text/x-python",
   "name": "python",
   "nbconvert_exporter": "python",
   "pygments_lexer": "ipython3",
   "version": "3.5.2"
  }
 },
 "nbformat": 4,
 "nbformat_minor": 2
}
