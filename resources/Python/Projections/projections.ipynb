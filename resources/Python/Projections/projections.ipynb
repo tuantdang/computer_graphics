{
 "cells": [
  {
   "cell_type": "markdown",
   "metadata": {},
   "source": [
    "#  Parallel and Perspective Projections\n",
    "\n",
    "This notebook lists the steps that are required for parallel and perspective projections in computer graphics\n",
    "\n",
    "Farhad Kamangar 2017"
   ]
  },
  {
   "cell_type": "markdown",
   "metadata": {},
   "source": [
    "## Projection\n",
    "\n",
    "In order to be able to display the objects in the real world to the screen, we need to define a process that maps from 3-dimensional coordinate system to a 2-dimensional plane. This process is called projection.\n",
    "\n",
    "To define a projection we need to define a projection plane. \n",
    "* The projection plane is defined by a point on the plane and a vector normal to the plane. \n",
    "* The point on the plane is called ** View Reference Point (VRP) **\n",
    "* The normal to the projection plane is called ** View Plane Normal (VPN) ** \n",
    "* The **VRP** is the origin of the **View Reference Coorinate (VRC)** system, which is also called camera coordinate system.\n",
    "* Rather than $x$, $y$, and $z$, the 3 axes on the **VRC** are called $u$ , $v$ , and $n$. \n",
    "* The **VPN** is the $n$ axis of the **VRC**  coordinate system.\n",
    "* A vector called **View Up Vector (VUP)** determines the $v$ axis of the **VRC** system. Notice that the **VUP** vector is not the same as the $v$ axis of the **VRC**, rather, the projection of the **VUP** on the projection plane is the $v$ axis.\n",
    "* The $u$ axis of the **VRC** is determined by the cross product of the $v$ and $n$ axes.\n",
    "\n",
    "<img  src=\"T2VH9NTVA7LVU44QG2IWHQRCK01LTM7P.png\"/>"
   ]
  },
  {
   "cell_type": "markdown",
   "metadata": {},
   "source": [
    "## Parallel Projection\n",
    "\n",
    "Wiki: A parallel projection is a projection of an object in three-dimensional space onto a fixed plane, known as the projection plane or image plane, where the rays, known as lines of sight or projection lines, are parallel to each other.\n",
    "\n",
    "<img  src=\"I844YBT7BLLSV10QBE1KLTI34X52Q4OG.png\"/>\n",
    "\n",
    "### Steps to convert a parallel projection volume into canonical view\n",
    "Given the viewing parameters for a parallel projection, i.e, VRP, VPN, VUP, PRP, umin, umax, vmin, vmax, nmin, nmax, \n",
    "find the sequence of transformations which will transform this viewing volume into a standard parallel view volume which is bounded by the planes  x=1 ; x=-1 ; y=1 ; y=-1 ; z=0 ; z=1\n",
    "\n",
    "* Step 1: \tTranslate VRP to origin\n",
    "* Step 2: \tRotate VPN around x until it lies in the xz plane with positive z\n",
    "* Step 3: \tRotate VPN' around y until it aligns with the positive z axis.\n",
    "* Step 4:\tRotate VUP'' around z until it lies in the yz plane with positive y\n",
    "* Step 5: \tShear such that the Direction of Projection (DOP) becomes parallel to the z axis. DOP is defined by connecting center of window to PRP.\n",
    "* Step 6:\tTranslate the Center of Window on the front plane (nmin) to the origin\n",
    "* Step 7:\tScale such that the view volume becomes the canonical parallel view volume which is bounded by the planes  x=1 ; x = -1 ; y=1 ; y = -1 ; z=0 ; z=1\n",
    "\n",
    "** Note: ** after the step 2 the vectors VPN and VUP vectors will change. For convenience they are called VPN' and VUP'. After the Step 3, the vectors VPN' and VUP' will change again and they are called VPN'' and VUP'' \n",
    "<img  src=\"B7Y3NSV2WAPV5EOM7PUY18KVBXWE0TQY.png\"/>"
   ]
  },
  {
   "cell_type": "markdown",
   "metadata": {},
   "source": [
    "## Perspective Projection\n",
    "\n",
    "Encyclopedia definition: A method of projection in which a three-dimensional object can be represented by projecting points upon a picture plane using straight lines converging at a fixed point, representing the eye of the viewer.\n",
    "\n",
    "<img  src=\"ID5WRDD043QU7XSVJKALT64QYKS7B0NT.png\"/>\n",
    "<img  src=\"X6ODYGDE52JKH1CB2UNOTCYPCFCJ4F57.png\"/>"
   ]
  },
  {
   "cell_type": "markdown",
   "metadata": {},
   "source": [
    "### Steps to convert a perspective projection volume into canonical view\n",
    "Given the viewing parameters for a perspective projection, i.e, VRP, VPN, VUP, PRP, umin, umax, vmin, vmax, nmin, nmax, \n",
    "find the sequence of transformations which will transform this viewing volume into a standard perspective view volume which is bounded by the planes  x=z ; x=-z ; y=z ; y=-z ; z=1\n",
    "\n",
    "\n",
    "<img  src=\"DEPAJIC47MB3ESKO4VA3H1AP7DMNKX9S.png\"/>\n",
    "\n",
    "* Step 1: Translate VRP to origin\n",
    "* Step 2: Rotate VPN around x until it lies in the xz plane with positive z\n",
    "* Step 3: Rotate VPN' around y until it aligns with the positive z axis.\n",
    "* Step 4: Rotate VUP'' around z until it lies in the yz plane with positive y\n",
    "* Step 5: Translate PRP (COP) to the origin![image.png](attachment:image.png)\n",
    "* Step 6: Shear such that the center line of the view volume becomes the z axis\n",
    "* Step 7: Scale such that the view volume becomes the canonical perspective volume\n",
    "\n",
    "** Note ** The first 4 steps of the parallel and perspective projections are exactly the same.\n",
    "\n",
    "\n"
   ]
  },
  {
   "cell_type": "markdown",
   "metadata": {},
   "source": [
    "<img  src=\"TB8E0N1SJ1NYU1HMS40EN7FM9DJNA5NH.png\"/>"
   ]
  },
  {
   "cell_type": "markdown",
   "metadata": {},
   "source": [
    "Sample Perspective Solution\n",
    "\n",
    "This is a sample solution for a perspective projection problem:\n",
    "\n",
    "Problem: \n",
    "\n",
    "VRP = ( 11, -3, 7 ) WC\n",
    "VPN = ( 1, 3, 2 ) WC\n",
    "VUP = ( -8, 4, 10 ) WC\n",
    "PRP = ( 5, -7, 25 ) VRC\n",
    "\n",
    "\n",
    "umin = -15  VRC\n",
    "umax = -5  VRC\n",
    "vmin = 2  VRC\n",
    "vmax = 18  VRC\n",
    "nmin = 30  VRC\n",
    "nmax = 45  VRC\n",
    "\n",
    "\n",
    "First Step: the first step in a perspective projection is to transfer the view reference point to the origin to make the viewing reference coordinates coincide with the world coordinates. \n",
    "\n",
    "This task is accomplished by translating VRP (the origin of the view reference coordinates) to the origin (of the world coordinates).\n",
    "\n",
    "Translate VRP to Origin\n",
    "1.000\t0.000\t0.000\t-11.000\n",
    "0.000\t1.000\t0.000\t3.000\n",
    "0.000\t0.000\t1.000\t-7.000\n",
    "0.000\t0.000\t0.000\t1.000\n",
    "\n",
    "\n",
    "The result of this step is that VRP becomes (0, 0, 0). There is no change to the other viewing parameters like VUP, VPN, PRP, the window and the near and far planes. The reason is that vectors do not translate and that the other parameters are originally measured with respect to the viewing reference coordinates. In other words, the relative position of PRP, the window and the far and near planes with respect to VRP remains the same.\n",
    " \n",
    "Second Step: the next step is to make VPN (the vector normal to the view plane) become the z axis. This requires two rotations:\n",
    "\n",
    "•\tThe first rotation is around the x-axis to bring the VPN to the xz plane. In other words, the y component of VPN becomes zero. The rotation matrix is:\n",
    " \n",
    "Rotate around x\n",
    "1.000\t0.000\t0.000\t0.000\n",
    "0.000\t0.555\t-0.832\t0.000\n",
    "0.000\t0.832\t0.555\t0.000\n",
    "0.000\t0.000\t0.000\t1.000\n",
    "\n",
    " \n",
    "To calculate the numbers in the Rx matrix we use VPN = ( 1, 3, 2 )\n",
    "\n",
    "Rx(1,1) =  =  = 0.555\n",
    "Rx(1,2) =  =  = -0.832\n",
    "\n",
    "And of course, Rx(2,2) = Rx(1,1) and Rx(2,1) = -Rx(1,2)\n",
    "Here, a programmer needs to make sure that not both of b and c are zeros or else a division by zero fatal error would occur. Or, if b was equal to zero, then the Rx matrix should be the identity matrix. Note that the reason for using this matrix is to make the y component of VPN equal to zero. \n",
    "\n",
    "The result of this rotation operation is VPN = (1, 0, 3.606), VUP = (-8.000, -6.102, 8.875), and no change to the other parameters.\n",
    "\n",
    "•\tThe second rotation is around the y-axis to make VPN coincide with the z-axis. In other words, the x component of VPN must become zero.\n",
    "\n",
    "Rotate around y\n",
    "Rotate around y\n",
    "0.964\t0.000\t-0.267\t0.000\n",
    "0.000\t1.000\t0.000\t0.000\n",
    "0.267\t0.000\t0.964\t0.000\n",
    "0.000\t0.000\t0.000\t1.000\n"
   ]
  }
 ],
 "metadata": {
  "anaconda-cloud": {},
  "kernelspec": {
   "display_name": "Python [conda root]",
   "language": "python",
   "name": "conda-root-py"
  },
  "language_info": {
   "codemirror_mode": {
    "name": "ipython",
    "version": 3
   },
   "file_extension": ".py",
   "mimetype": "text/x-python",
   "name": "python",
   "nbconvert_exporter": "python",
   "pygments_lexer": "ipython3",
   "version": "3.5.4"
  }
 },
 "nbformat": 4,
 "nbformat_minor": 2
}
