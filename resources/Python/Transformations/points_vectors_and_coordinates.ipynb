{
 "cells": [
  {
   "cell_type": "markdown",
   "metadata": {},
   "source": [
    "#  Points, Vectors, and Coordinate Systems\n",
    "\n",
    "Farhad Kamangar 2017"
   ]
  },
  {
   "cell_type": "markdown",
   "metadata": {},
   "source": [
    "## Coordinate System\n",
    "In computer graphics a coordinate system is a system which uses one or more numbers, or coordinates, to uniquely determine the position of a point in 2 or 3-dimensional Euclidean space.\n"
   ]
  },
  {
   "cell_type": "markdown",
   "metadata": {},
   "source": [
    "## 2-dimensional space:\n",
    "### Points:\n",
    "a point, $p$, in 2-dimensional space is represented tuples of numbers: $P = \\left[ {\\matrix{ x  \\cr \n",
    "   y  \\cr \n",
    " } } \\right]$\n",
    " \n",
    " \n",
    " ### Vectors:\n",
    " a vector, $v$, in 2-dimensional space may represent direction, normal to a surface, force, etc, and is also represented by tuples of numbers: \n",
    " $\\overrightarrow V  = \\left[ {\\matrix{  x  \\cr  y  \\cr  } } \\right]$\n"
   ]
  },
  {
   "cell_type": "markdown",
   "metadata": {},
   "source": [
    "<img  src=\"PYXTOCQKSS1OE7M1WC54PA5PJH10EOKI.png\"/>"
   ]
  },
  {
   "cell_type": "markdown",
   "metadata": {},
   "source": [
    "## 3-dimensional space:\n",
    "\n",
    "The Cartesian coordinate systems in 3-dimensional space are either right-handed or left-handed\n",
    "<table style=\"width:100%\">\n",
    "\n",
    "<tr>\n",
    "    <td> <img  src=\"UPTQ558RE7RXAUGNWO33GCYVX1RNM2CQ.png\"/> </td>\n",
    "    <td> <img  src=\"QF2M4HSJFONLLJQSJSVKNE7WYOADKLSH.png\"/> </td>\n",
    "    </tr>\n",
    "</table>"
   ]
  },
  {
   "cell_type": "markdown",
   "metadata": {},
   "source": [
    "### Points:\n",
    "a point, $p$, in 3-dimensional space represents a location and is presented by tuples of numbers such as:\n",
    "$p=\\left[ {\\matrix{   {{x}}  \\cr    {{y}}  \\cr {{z}} \\cr  } } \\right]$\n",
    " \n",
    " ### Vectors:\n",
    " a vector, $v$, in 3-dimensional space may represent direction, normal to a surface, force, etc, and is also represented by tuples of numbers such as:\n",
    " $\\overrightarrow v=\\left[ {\\matrix{   {{x}}  \\cr    {{y}}  \\cr {{z}} \\cr\n",
    " } } \\right]$\n",
    " \n",
    " ### Notes:\n",
    " * Since the vectors and points have the same representation, it is important to make a distinction between the concept of vector and point.\n",
    " * Adding a vector to another vector creates a new vector.\n",
    " * It is meaningless to add two points.\n",
    " * Adding a vector to a point creates another point.\n",
    " * Subtracting a point from another point creates a vector.\n",
    " \n",
    " "
   ]
  }
 ],
 "metadata": {
  "anaconda-cloud": {},
  "kernelspec": {
   "display_name": "Python [conda root]",
   "language": "python",
   "name": "conda-root-py"
  },
  "language_info": {
   "codemirror_mode": {
    "name": "ipython",
    "version": 3
   },
   "file_extension": ".py",
   "mimetype": "text/x-python",
   "name": "python",
   "nbconvert_exporter": "python",
   "pygments_lexer": "ipython3",
   "version": "3.5.2"
  }
 },
 "nbformat": 4,
 "nbformat_minor": 2
}
