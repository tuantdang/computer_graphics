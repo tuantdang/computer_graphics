{
 "cells": [
  {
   "cell_type": "markdown",
   "metadata": {},
   "source": [
    "#  Graphics Pipeline\n",
    "\n",
    "This notebook explains the concept of a simple graphics pipeline which is used in computer graphics.\n",
    "\n",
    "Farhad Kamangar 2017"
   ]
  },
  {
   "cell_type": "markdown",
   "metadata": {},
   "source": [
    "## Graphics Pipeline\n",
    "Graphics pipeline is a conceptual model which is used in computer graphics systems to describe a series of steps which needs to be performed to display a 3-dimensional scene on a 2-dimensional screen.\n",
    "\n",
    "Since computer graphics packages depend on different hardware and software systems, there is no universal graphics pipeline. for example the graphics pipelines for Direct3D and OpenGL are different from each other. Some of the steps in a graphics pipeline are implemented in hardware to accelerate the rendering process.\n",
    "\n",
    "A graphics pipeline usually has three main components as shown below. \n",
    "\n",
    "<img  src=\"PS1AQIBN66M5KT9P3WB7A1KEW7STX72R.png\"/>"
   ]
  },
  {
   "cell_type": "markdown",
   "metadata": {},
   "source": [
    "## Application Component\n",
    "Typically the application component is where the geometric primitives are defined. These primitives include points, lines, polygons, .... The application component is also responsible to read input files, and interact with user.\n",
    "\n"
   ]
  },
  {
   "cell_type": "markdown",
   "metadata": {},
   "source": [
    "## Geometry Component (Stage)\n",
    "\n",
    "As the name implies, the geometry stage is responsible for most of the operations on the geometric primitives such as vertices and polygons. The geometry stage itself includes multiple sub-stages as shown below:\n",
    "\n",
    "\n",
    "<img  src=\"V5A4V3O9LWBHO0LJMMVHDNM5L91N6UW7.png\"/>\n",
    "\n",
    "\n",
    "* **Model coordinates** This coordinate system is the object space where each object has its own coordinate system.\n",
    "* **World Coordinates** This is where objects are located in the scene. This coordinate system is common to all the objects in the scene.\n",
    "* **View Coordinates** This is the camera coordinate system which is derived from the location and direction of the camera.\n",
    "* **Normalized Coordinates** This is the normalized coordinate system which depends on the view volume.\n",
    "* **Device Coordinates** This is the screen coordinate system."
   ]
  },
  {
   "cell_type": "markdown",
   "metadata": {},
   "source": [
    "## Rasterization Component\n",
    "In the rasterization stage, the primitives are converted to fragments. Each fragment corresponds to a pixel on the display device. The color and illumination of the pixels are finalized in this stage. The z-buffer is usually used in this stage to determine the visibility of the fragments.\n",
    "pixels to be displayed on the screen."
   ]
  }
 ],
 "metadata": {
  "anaconda-cloud": {},
  "kernelspec": {
   "display_name": "Python [conda root]",
   "language": "python",
   "name": "conda-root-py"
  },
  "language_info": {
   "codemirror_mode": {
    "name": "ipython",
    "version": 3
   },
   "file_extension": ".py",
   "mimetype": "text/x-python",
   "name": "python",
   "nbconvert_exporter": "python",
   "pygments_lexer": "ipython3",
   "version": "3.5.2"
  }
 },
 "nbformat": 4,
 "nbformat_minor": 2
}
